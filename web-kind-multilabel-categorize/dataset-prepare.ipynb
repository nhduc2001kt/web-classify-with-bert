{
 "cells": [
  {
   "cell_type": "code",
   "execution_count": 1,
   "metadata": {},
   "outputs": [],
   "source": [
    "import pandas as pd"
   ]
  },
  {
   "cell_type": "code",
   "execution_count": 27,
   "metadata": {},
   "outputs": [],
   "source": [
    "usecols = ['website_url', 'cleaned_website_text', 'Category']\n",
    "data = pd.read_csv('website_classification.csv', usecols=usecols)\n",
    "labels = data[usecols[2]].unique()\n"
   ]
  },
  {
   "cell_type": "code",
   "execution_count": 28,
   "metadata": {},
   "outputs": [],
   "source": [
    "for i in labels:\n",
    "    data[i] = 0\n",
    "for i, v in data.loc[:, usecols[2]].items():\n",
    "    data.at[i, v] = 1\n",
    "data = data.drop('Category', axis=1)\n",
    "data.to_csv('dataset.csv', index=False)\n"
   ]
  },
  {
   "cell_type": "code",
   "execution_count": 29,
   "metadata": {},
   "outputs": [
    {
     "name": "stdout",
     "output_type": "stream",
     "text": [
      "['Travel' 'Social Networking and Messaging' 'News' 'Streaming Services'\n",
      " 'Sports' 'Photography' 'Law and Government' 'Health and Fitness' 'Games'\n",
      " 'E-Commerce' 'Forums' 'Food' 'Education' 'Computers and Technology'\n",
      " 'Business/Corporate' 'Adult']\n"
     ]
    }
   ],
   "source": [
    "print(labels)"
   ]
  }
 ],
 "metadata": {
  "kernelspec": {
   "display_name": "Python 3.10.7 64-bit",
   "language": "python",
   "name": "python3"
  },
  "language_info": {
   "codemirror_mode": {
    "name": "ipython",
    "version": 3
   },
   "file_extension": ".py",
   "mimetype": "text/x-python",
   "name": "python",
   "nbconvert_exporter": "python",
   "pygments_lexer": "ipython3",
   "version": "3.10.7"
  },
  "orig_nbformat": 4,
  "vscode": {
   "interpreter": {
    "hash": "aee8b7b246df8f9039afb4144a1f6fd8d2ca17a180786b69acc140d282b71a49"
   }
  }
 },
 "nbformat": 4,
 "nbformat_minor": 2
}
